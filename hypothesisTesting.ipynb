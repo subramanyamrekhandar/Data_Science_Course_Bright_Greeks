{
 "cells": [
  {
   "cell_type": "code",
   "execution_count": 7,
   "id": "c030bfeb-4e46-46b7-8576-9803ed75566b",
   "metadata": {},
   "outputs": [],
   "source": [
    "from scipy.stats import ttest_ind"
   ]
  },
  {
   "cell_type": "code",
   "execution_count": 9,
   "id": "59dcca8a-2ab4-4d01-8936-e2b11a51796f",
   "metadata": {},
   "outputs": [
    {
     "name": "stdout",
     "output_type": "stream",
     "text": [
      "T-Statistics: -0.5312439474504416\n",
      "P-Value: 0.604943832473805\n",
      "Fail to reject the null hypothesis : No significant difference b/w the two groups \n"
     ]
    }
   ],
   "source": [
    "# create sample data for two groups\n",
    "G1 = [12,14,16,19,22,24,26]\n",
    "G2 = [14,16,18,20,23,25,27]\n",
    "\n",
    "# perform the T-test method or funtionality\n",
    "t_stat, p_value = ttest_ind(G1,G2)\n",
    "\n",
    "print(f\"T-Statistics: {t_stat}\")\n",
    "print(f\"P-Value: {p_value}\")\n",
    "\n",
    "# 0.60 < 0.05\n",
    "#false condition\n",
    "\n",
    "# interpretation\n",
    "if p_value < 0.05:\n",
    "    print(\"Rejected null hypothesis : significant difference b/w the two groups\")\n",
    "else:\n",
    "    print(\"Fail to reject the null hypothesis : No significant difference b/w the two groups \")"
   ]
  },
  {
   "cell_type": "code",
   "execution_count": null,
   "id": "39e0afe6-fdc8-41c0-8631-8632253eda4f",
   "metadata": {},
   "outputs": [],
   "source": []
  }
 ],
 "metadata": {
  "kernelspec": {
   "display_name": "Python 3 (ipykernel)",
   "language": "python",
   "name": "python3"
  },
  "language_info": {
   "codemirror_mode": {
    "name": "ipython",
    "version": 3
   },
   "file_extension": ".py",
   "mimetype": "text/x-python",
   "name": "python",
   "nbconvert_exporter": "python",
   "pygments_lexer": "ipython3",
   "version": "3.10.14"
  }
 },
 "nbformat": 4,
 "nbformat_minor": 5
}
