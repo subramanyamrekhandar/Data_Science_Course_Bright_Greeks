{
 "cells": [
  {
   "cell_type": "code",
   "execution_count": null,
   "id": "ef6938f4-7cae-4923-80ff-23e66aec9cf3",
   "metadata": {},
   "outputs": [],
   "source": [
    "#Descriptive Statistics  "
   ]
  },
  {
   "cell_type": "code",
   "execution_count": 3,
   "id": "bafd3ab3-28d2-468e-9a91-cd46eee1e0af",
   "metadata": {},
   "outputs": [
    {
     "name": "stdout",
     "output_type": "stream",
     "text": [
      "    Values\n",
      "0       12\n",
      "1       15\n",
      "2       12\n",
      "3       10\n",
      "4        8\n",
      "5       12\n",
      "6       14\n",
      "7       15\n",
      "8       17\n",
      "9       19\n",
      "10      21\n"
     ]
    }
   ],
   "source": [
    "# 1. to calculate and interpret mean, median, mode, variance and standard deviation for a dataset\n",
    "\n",
    "import pandas as pd\n",
    "import numpy as np\n",
    "import scipy as stats\n",
    "\n",
    "# sample dataset\n",
    "data = {\"Values\": [12, 15, 12, 10, 8, 12, 14, 15, 17, 19, 21]} \n",
    "\n",
    "# create dataframes\n",
    "df = pd.DataFrame(data)\n",
    "print(df)\n"
   ]
  },
  {
   "cell_type": "code",
   "execution_count": 5,
   "id": "939703b7-7208-4773-8cdc-70eef9b2e436",
   "metadata": {},
   "outputs": [
    {
     "name": "stdout",
     "output_type": "stream",
     "text": [
      "Mean: 14.090909090909092\n"
     ]
    }
   ],
   "source": [
    "# calculate the Mean Values in dataset\n",
    "mean_value = df[\"Values\"].mean()\n",
    "print(f\"Mean: {mean_value}\")"
   ]
  },
  {
   "cell_type": "code",
   "execution_count": 7,
   "id": "b861bf1b-86dd-44b3-817d-fa543bc56bb8",
   "metadata": {},
   "outputs": [
    {
     "name": "stdout",
     "output_type": "stream",
     "text": [
      "Median: 14.0\n"
     ]
    }
   ],
   "source": [
    "# calculate the Median Values in dataset \n",
    "median_value = df[\"Values\"].median()\n",
    "print(f\"Median: {median_value}\")"
   ]
  },
  {
   "cell_type": "code",
   "execution_count": 15,
   "id": "a8633dd5-1b92-485f-9cc0-367437f8b0d4",
   "metadata": {},
   "outputs": [
    {
     "name": "stdout",
     "output_type": "stream",
     "text": [
      "Mode: 12\n"
     ]
    }
   ],
   "source": [
    "# calculate the Mode Values in dataset \n",
    "mode_value = df[\"Values\"].mode()[0]\n",
    "print(f\"Mode: {mode_value}\")"
   ]
  },
  {
   "cell_type": "code",
   "execution_count": 17,
   "id": "2b2c2126-3aed-4474-a831-496ace9f0f7b",
   "metadata": {},
   "outputs": [
    {
     "name": "stdout",
     "output_type": "stream",
     "text": [
      "VAR: 14.89090909090909\n"
     ]
    }
   ],
   "source": [
    "# calculate the variance Values in dataset \n",
    "var_value = df[\"Values\"].var()\n",
    "print(f\"VAR: {var_value}\")\n"
   ]
  },
  {
   "cell_type": "code",
   "execution_count": 19,
   "id": "5ea5cd95-0beb-4f37-aa0d-10b17ec3502d",
   "metadata": {},
   "outputs": [
    {
     "name": "stdout",
     "output_type": "stream",
     "text": [
      "std: 3.8588740703615985\n"
     ]
    }
   ],
   "source": [
    "# calculate the standard diviation Values in dataset \n",
    "div_value = df[\"Values\"].std()\n",
    "print(f\"std: {div_value}\")\n"
   ]
  },
  {
   "cell_type": "code",
   "execution_count": null,
   "id": "ab79d377-e808-4fa9-baae-5480cb64b5c2",
   "metadata": {},
   "outputs": [],
   "source": [
    "#2. "
   ]
  }
 ],
 "metadata": {
  "kernelspec": {
   "display_name": "Python 3 (ipykernel)",
   "language": "python",
   "name": "python3"
  },
  "language_info": {
   "codemirror_mode": {
    "name": "ipython",
    "version": 3
   },
   "file_extension": ".py",
   "mimetype": "text/x-python",
   "name": "python",
   "nbconvert_exporter": "python",
   "pygments_lexer": "ipython3",
   "version": "3.10.14"
  }
 },
 "nbformat": 4,
 "nbformat_minor": 5
}
