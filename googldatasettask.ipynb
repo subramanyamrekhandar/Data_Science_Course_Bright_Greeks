{
 "cells": [
  {
   "cell_type": "code",
   "execution_count": 1,
   "id": "d246cbf0-cc5a-4247-941f-2e74bfc1b5b2",
   "metadata": {},
   "outputs": [],
   "source": [
    "import pandas as pd\n"
   ]
  },
  {
   "cell_type": "code",
   "execution_count": null,
   "id": "0adbb888-184f-4e91-b2e9-f3fd22df2602",
   "metadata": {},
   "outputs": [],
   "source": [
    "# to work on processing dataset from google play store , so our goal is to clean or load the data, handdle missing values , transform data types and prepare \n",
    "the data set for futher analysis"
   ]
  },
  {
   "cell_type": "code",
   "execution_count": 3,
   "id": "d98a5fcf-0f37-45a7-813c-4d0e9152c33d",
   "metadata": {},
   "outputs": [
    {
     "name": "stdout",
     "output_type": "stream",
     "text": [
      "   Unnamed: 0                                                App  \\\n",
      "0           0     Photo Editor & Candy Camera & Grid & ScrapBook   \n",
      "1           1                                Coloring book moana   \n",
      "2           2  U Launcher Lite – FREE Live Cool Themes, Hide ...   \n",
      "3           3                              Sketch - Draw & Paint   \n",
      "4           4              Pixel Draw - Number Art Coloring Book   \n",
      "\n",
      "         Category  Rating Reviews  Size     Installs  Type Price  \\\n",
      "0  ART_AND_DESIGN     4.1     159   19M      10,000+  Free     0   \n",
      "1  ART_AND_DESIGN     3.9     967   14M     500,000+  Free     0   \n",
      "2  ART_AND_DESIGN     4.7   87510  8.7M   5,000,000+  Free     0   \n",
      "3  ART_AND_DESIGN     4.5  215644   25M  50,000,000+  Free     0   \n",
      "4  ART_AND_DESIGN     4.3     967  2.8M     100,000+  Free     0   \n",
      "\n",
      "  Content Rating                     Genres Last Updated         Current Ver  \\\n",
      "0       Everyone               Art & Design     7-Jan-18               1.0.0   \n",
      "1       Everyone  Art & Design;Pretend Play    15-Jan-18               2.0.0   \n",
      "2       Everyone               Art & Design     1-Aug-18               1.2.4   \n",
      "3           Teen               Art & Design     8-Jun-18  Varies with device   \n",
      "4       Everyone    Art & Design;Creativity    20-Jun-18                 1.1   \n",
      "\n",
      "    Android Ver  \n",
      "0  4.0.3 and up  \n",
      "1  4.0.3 and up  \n",
      "2  4.0.3 and up  \n",
      "3    4.2 and up  \n",
      "4    4.4 and up  \n"
     ]
    }
   ],
   "source": [
    "df = pd.read_csv(\"googleplaystore.csv\")\n",
    "print(df.head())"
   ]
  },
  {
   "cell_type": "code",
   "execution_count": 5,
   "id": "6e967825-7b12-4f24-b2e0-9c974e41c8a7",
   "metadata": {},
   "outputs": [
    {
     "name": "stdout",
     "output_type": "stream",
     "text": [
      "<class 'pandas.core.frame.DataFrame'>\n",
      "RangeIndex: 10841 entries, 0 to 10840\n",
      "Data columns (total 14 columns):\n",
      " #   Column          Non-Null Count  Dtype  \n",
      "---  ------          --------------  -----  \n",
      " 0   Unnamed: 0      10841 non-null  int64  \n",
      " 1   App             10841 non-null  object \n",
      " 2   Category        10841 non-null  object \n",
      " 3   Rating          9367 non-null   float64\n",
      " 4   Reviews         10841 non-null  object \n",
      " 5   Size            10841 non-null  object \n",
      " 6   Installs        10841 non-null  object \n",
      " 7   Type            10840 non-null  object \n",
      " 8   Price           10841 non-null  object \n",
      " 9   Content Rating  10840 non-null  object \n",
      " 10  Genres          10841 non-null  object \n",
      " 11  Last Updated    10841 non-null  object \n",
      " 12  Current Ver     10833 non-null  object \n",
      " 13  Android Ver     10838 non-null  object \n",
      "dtypes: float64(1), int64(1), object(12)\n",
      "memory usage: 1.2+ MB\n",
      "None\n"
     ]
    }
   ],
   "source": [
    "print(df.info())"
   ]
  },
  {
   "cell_type": "code",
   "execution_count": 7,
   "id": "9b27d08e-6c81-4c9e-9b57-45363c5e28ea",
   "metadata": {},
   "outputs": [
    {
     "name": "stdout",
     "output_type": "stream",
     "text": [
      "Unnamed: 0           0\n",
      "App                  0\n",
      "Category             0\n",
      "Rating            1474\n",
      "Reviews              0\n",
      "Size                 0\n",
      "Installs             0\n",
      "Type                 1\n",
      "Price                0\n",
      "Content Rating       1\n",
      "Genres               0\n",
      "Last Updated         0\n",
      "Current Ver          8\n",
      "Android Ver          3\n",
      "dtype: int64\n"
     ]
    }
   ],
   "source": [
    "#module 2 is handle missing values\n",
    "missing_values = df.isnull().sum()\n",
    "print(missing_values)"
   ]
  },
  {
   "cell_type": "code",
   "execution_count": 9,
   "id": "2585cba1-5e0a-411f-8745-d169ceb4ee9a",
   "metadata": {},
   "outputs": [
    {
     "name": "stdout",
     "output_type": "stream",
     "text": [
      "Unnamed: 0        0\n",
      "App               0\n",
      "Category          0\n",
      "Rating            0\n",
      "Reviews           0\n",
      "Size              0\n",
      "Installs          0\n",
      "Type              0\n",
      "Price             0\n",
      "Content Rating    0\n",
      "Genres            0\n",
      "Last Updated      0\n",
      "Current Ver       0\n",
      "Android Ver       0\n",
      "dtype: int64\n"
     ]
    }
   ],
   "source": [
    "# drop rows with missing values\n",
    "df_cleaned = df.dropna()\n",
    "# to verify the there are no missing values in the dataset \n",
    "print(df_cleaned.isnull().sum())"
   ]
  },
  {
   "cell_type": "code",
   "execution_count": 17,
   "id": "1d25f804-1cb6-41dd-844e-3de82d1242c5",
   "metadata": {},
   "outputs": [],
   "source": [
    "# module 3 data type conversion \n",
    "#1. identify columns that need data types converion is like price, reviews, installs\n",
    "# 2. to convert the price columns to numeric types by the removing the dollar sign\n",
    "#3.to convert reviews columns to an integer type values\n",
    "#4.to convert installs columns to numeric types by removing commas and plus sign\n",
    "\n",
    "# .loc[row_indexer,col_indexer] = value instead\n",
    "\n",
    "df_cleaned.loc[:, \"Price\"] = df_cleaned[\"Price\"].replace(\"$\", \"\").astype(float)\n",
    "\n",
    "df_cleaned.loc[:, \"Reviews\"] = df_cleaned[\"Reviews\"].astype(int)\n",
    "\n",
    "df_cleaned.loc[:, \"Installs\"] = df_cleaned[\"Installs\"].replace(\"[+,]\", \"\", regex=True).astype(int)\n",
    "\n",
    "\n"
   ]
  },
  {
   "cell_type": "code",
   "execution_count": 24,
   "id": "25e62255-9c64-4bf2-8b80-9d0313261b99",
   "metadata": {},
   "outputs": [
    {
     "name": "stdout",
     "output_type": "stream",
     "text": [
      "number of duplicates rows: 0\n",
      "Number of duplicate rows after removal: 0 \n"
     ]
    }
   ],
   "source": [
    "# To Remove Duplicate Values in data set \n",
    "# to identify the duplicate values in dataset \n",
    "\n",
    "duplicate = df_cleaned.duplicated().sum()\n",
    "print(f\"number of duplicates rows: {duplicate}\")\n",
    "\n",
    "# remove duplicate values\n",
    "\n",
    "df_cleaned = df_cleaned.drop_duplicates()\n",
    "\n",
    "print(f\"Number of duplicate rows after removal: {df_cleaned.duplicated().sum()} \")"
   ]
  },
  {
   "cell_type": "code",
   "execution_count": null,
   "id": "7c9b4672-13ee-4866-bed8-129652d93820",
   "metadata": {},
   "outputs": [],
   "source": [
    "# handle Outliers"
   ]
  },
  {
   "cell_type": "code",
   "execution_count": null,
   "id": "06fba897-c024-43f1-bf9e-8211e867cc7e",
   "metadata": {},
   "outputs": [],
   "source": [
    "X = df_cleaned[\"Rating\"].quantile(0.25"
   ]
  }
 ],
 "metadata": {
  "kernelspec": {
   "display_name": "Python 3 (ipykernel)",
   "language": "python",
   "name": "python3"
  },
  "language_info": {
   "codemirror_mode": {
    "name": "ipython",
    "version": 3
   },
   "file_extension": ".py",
   "mimetype": "text/x-python",
   "name": "python",
   "nbconvert_exporter": "python",
   "pygments_lexer": "ipython3",
   "version": "3.10.14"
  }
 },
 "nbformat": 4,
 "nbformat_minor": 5
}
