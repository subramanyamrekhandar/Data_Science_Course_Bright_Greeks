{
 "cells": [
  {
   "cell_type": "code",
   "execution_count": null,
   "id": "4757b8c7-c913-4aeb-99f7-f833f86c1a3f",
   "metadata": {},
   "outputs": [],
   "source": [
    "# Research the key objectives of EDA and summarize your findings in a brief report \n",
    "#Overview of data or task\n",
    "#1. to check the first few rowsa \n",
    "# 2. to checks data types\n",
    "# 3. to check missing values \n",
    "# 4. get summary statistics"
   ]
  },
  {
   "cell_type": "code",
   "execution_count": 1,
   "id": "ccda0ccf-407b-4006-b6c3-ae6332def15b",
   "metadata": {},
   "outputs": [],
   "source": [
    "import pandas as pd\n",
    "\n",
    "# load the datset \n",
    "df = pd.read_csv(\"Titanic.csv\")"
   ]
  },
  {
   "cell_type": "code",
   "execution_count": 3,
   "id": "24015369-ab8e-4292-926b-3ceea9e19d1a",
   "metadata": {},
   "outputs": [
    {
     "data": {
      "text/html": [
       "<div>\n",
       "<style scoped>\n",
       "    .dataframe tbody tr th:only-of-type {\n",
       "        vertical-align: middle;\n",
       "    }\n",
       "\n",
       "    .dataframe tbody tr th {\n",
       "        vertical-align: top;\n",
       "    }\n",
       "\n",
       "    .dataframe thead th {\n",
       "        text-align: right;\n",
       "    }\n",
       "</style>\n",
       "<table border=\"1\" class=\"dataframe\">\n",
       "  <thead>\n",
       "    <tr style=\"text-align: right;\">\n",
       "      <th></th>\n",
       "      <th>PassengerId</th>\n",
       "      <th>Pclass</th>\n",
       "      <th>Name</th>\n",
       "      <th>Sex</th>\n",
       "      <th>Age</th>\n",
       "      <th>SibSp</th>\n",
       "      <th>Parch</th>\n",
       "      <th>Ticket</th>\n",
       "      <th>Fare</th>\n",
       "      <th>Embarked</th>\n",
       "      <th>Survived</th>\n",
       "    </tr>\n",
       "  </thead>\n",
       "  <tbody>\n",
       "    <tr>\n",
       "      <th>0</th>\n",
       "      <td>1</td>\n",
       "      <td>3</td>\n",
       "      <td>Allison Hill</td>\n",
       "      <td>male</td>\n",
       "      <td>17</td>\n",
       "      <td>4</td>\n",
       "      <td>2</td>\n",
       "      <td>43d75413-a939-4bd1-a516-b0d47d3572cc</td>\n",
       "      <td>144.08</td>\n",
       "      <td>Q</td>\n",
       "      <td>1</td>\n",
       "    </tr>\n",
       "    <tr>\n",
       "      <th>1</th>\n",
       "      <td>2</td>\n",
       "      <td>1</td>\n",
       "      <td>Noah Rhodes</td>\n",
       "      <td>male</td>\n",
       "      <td>60</td>\n",
       "      <td>2</td>\n",
       "      <td>2</td>\n",
       "      <td>6334fa2a-8b4b-47e7-a451-5ae01754bf08</td>\n",
       "      <td>249.04</td>\n",
       "      <td>S</td>\n",
       "      <td>0</td>\n",
       "    </tr>\n",
       "    <tr>\n",
       "      <th>2</th>\n",
       "      <td>3</td>\n",
       "      <td>3</td>\n",
       "      <td>Angie Henderson</td>\n",
       "      <td>male</td>\n",
       "      <td>64</td>\n",
       "      <td>0</td>\n",
       "      <td>0</td>\n",
       "      <td>61a66444-e2af-4629-9efb-336e2f546033</td>\n",
       "      <td>50.31</td>\n",
       "      <td>Q</td>\n",
       "      <td>1</td>\n",
       "    </tr>\n",
       "    <tr>\n",
       "      <th>3</th>\n",
       "      <td>4</td>\n",
       "      <td>3</td>\n",
       "      <td>Daniel Wagner</td>\n",
       "      <td>male</td>\n",
       "      <td>35</td>\n",
       "      <td>4</td>\n",
       "      <td>0</td>\n",
       "      <td>0b6c03c8-721e-4419-afc3-e6495e911b91</td>\n",
       "      <td>235.20</td>\n",
       "      <td>C</td>\n",
       "      <td>1</td>\n",
       "    </tr>\n",
       "    <tr>\n",
       "      <th>4</th>\n",
       "      <td>5</td>\n",
       "      <td>1</td>\n",
       "      <td>Cristian Santos</td>\n",
       "      <td>female</td>\n",
       "      <td>70</td>\n",
       "      <td>0</td>\n",
       "      <td>3</td>\n",
       "      <td>436e3c49-770e-49db-b092-d40143675d58</td>\n",
       "      <td>160.17</td>\n",
       "      <td>C</td>\n",
       "      <td>1</td>\n",
       "    </tr>\n",
       "    <tr>\n",
       "      <th>...</th>\n",
       "      <td>...</td>\n",
       "      <td>...</td>\n",
       "      <td>...</td>\n",
       "      <td>...</td>\n",
       "      <td>...</td>\n",
       "      <td>...</td>\n",
       "      <td>...</td>\n",
       "      <td>...</td>\n",
       "      <td>...</td>\n",
       "      <td>...</td>\n",
       "      <td>...</td>\n",
       "    </tr>\n",
       "    <tr>\n",
       "      <th>995</th>\n",
       "      <td>996</td>\n",
       "      <td>2</td>\n",
       "      <td>Brittany Ward</td>\n",
       "      <td>male</td>\n",
       "      <td>69</td>\n",
       "      <td>2</td>\n",
       "      <td>3</td>\n",
       "      <td>75eb0e8f-a090-460d-a7c7-655a7b434a72</td>\n",
       "      <td>19.87</td>\n",
       "      <td>Q</td>\n",
       "      <td>1</td>\n",
       "    </tr>\n",
       "    <tr>\n",
       "      <th>996</th>\n",
       "      <td>997</td>\n",
       "      <td>2</td>\n",
       "      <td>Edward Stanley</td>\n",
       "      <td>female</td>\n",
       "      <td>61</td>\n",
       "      <td>4</td>\n",
       "      <td>4</td>\n",
       "      <td>e55b93ad-8976-4471-9d7f-57d1e45def26</td>\n",
       "      <td>85.35</td>\n",
       "      <td>C</td>\n",
       "      <td>0</td>\n",
       "    </tr>\n",
       "    <tr>\n",
       "      <th>997</th>\n",
       "      <td>998</td>\n",
       "      <td>3</td>\n",
       "      <td>Christina Johnson</td>\n",
       "      <td>male</td>\n",
       "      <td>10</td>\n",
       "      <td>4</td>\n",
       "      <td>1</td>\n",
       "      <td>d06d3943-c8b3-415e-b664-704355c9bf0f</td>\n",
       "      <td>444.22</td>\n",
       "      <td>C</td>\n",
       "      <td>0</td>\n",
       "    </tr>\n",
       "    <tr>\n",
       "      <th>998</th>\n",
       "      <td>999</td>\n",
       "      <td>3</td>\n",
       "      <td>Edgar Miller</td>\n",
       "      <td>male</td>\n",
       "      <td>50</td>\n",
       "      <td>3</td>\n",
       "      <td>2</td>\n",
       "      <td>0e5779ec-be1a-470f-ad83-a4c869f8d3e4</td>\n",
       "      <td>234.67</td>\n",
       "      <td>S</td>\n",
       "      <td>1</td>\n",
       "    </tr>\n",
       "    <tr>\n",
       "      <th>999</th>\n",
       "      <td>1000</td>\n",
       "      <td>1</td>\n",
       "      <td>Elizabeth Sanders</td>\n",
       "      <td>male</td>\n",
       "      <td>3</td>\n",
       "      <td>3</td>\n",
       "      <td>3</td>\n",
       "      <td>90a014ab-4ca1-4abd-8565-0e0bd5c97d5d</td>\n",
       "      <td>286.65</td>\n",
       "      <td>C</td>\n",
       "      <td>1</td>\n",
       "    </tr>\n",
       "  </tbody>\n",
       "</table>\n",
       "<p>1000 rows × 11 columns</p>\n",
       "</div>"
      ],
      "text/plain": [
       "     PassengerId  Pclass               Name     Sex  Age  SibSp  Parch  \\\n",
       "0              1       3       Allison Hill    male   17      4      2   \n",
       "1              2       1        Noah Rhodes    male   60      2      2   \n",
       "2              3       3    Angie Henderson    male   64      0      0   \n",
       "3              4       3      Daniel Wagner    male   35      4      0   \n",
       "4              5       1    Cristian Santos  female   70      0      3   \n",
       "..           ...     ...                ...     ...  ...    ...    ...   \n",
       "995          996       2      Brittany Ward    male   69      2      3   \n",
       "996          997       2     Edward Stanley  female   61      4      4   \n",
       "997          998       3  Christina Johnson    male   10      4      1   \n",
       "998          999       3       Edgar Miller    male   50      3      2   \n",
       "999         1000       1  Elizabeth Sanders    male    3      3      3   \n",
       "\n",
       "                                   Ticket    Fare Embarked  Survived  \n",
       "0    43d75413-a939-4bd1-a516-b0d47d3572cc  144.08        Q         1  \n",
       "1    6334fa2a-8b4b-47e7-a451-5ae01754bf08  249.04        S         0  \n",
       "2    61a66444-e2af-4629-9efb-336e2f546033   50.31        Q         1  \n",
       "3    0b6c03c8-721e-4419-afc3-e6495e911b91  235.20        C         1  \n",
       "4    436e3c49-770e-49db-b092-d40143675d58  160.17        C         1  \n",
       "..                                    ...     ...      ...       ...  \n",
       "995  75eb0e8f-a090-460d-a7c7-655a7b434a72   19.87        Q         1  \n",
       "996  e55b93ad-8976-4471-9d7f-57d1e45def26   85.35        C         0  \n",
       "997  d06d3943-c8b3-415e-b664-704355c9bf0f  444.22        C         0  \n",
       "998  0e5779ec-be1a-470f-ad83-a4c869f8d3e4  234.67        S         1  \n",
       "999  90a014ab-4ca1-4abd-8565-0e0bd5c97d5d  286.65        C         1  \n",
       "\n",
       "[1000 rows x 11 columns]"
      ]
     },
     "execution_count": 3,
     "metadata": {},
     "output_type": "execute_result"
    }
   ],
   "source": [
    "df"
   ]
  },
  {
   "cell_type": "code",
   "execution_count": 5,
   "id": "6d057c74-981a-4738-a756-f55c0e9e6744",
   "metadata": {},
   "outputs": [
    {
     "name": "stdout",
     "output_type": "stream",
     "text": [
      "   PassengerId  Pclass             Name     Sex  Age  SibSp  Parch  \\\n",
      "0            1       3     Allison Hill    male   17      4      2   \n",
      "1            2       1      Noah Rhodes    male   60      2      2   \n",
      "2            3       3  Angie Henderson    male   64      0      0   \n",
      "3            4       3    Daniel Wagner    male   35      4      0   \n",
      "4            5       1  Cristian Santos  female   70      0      3   \n",
      "\n",
      "                                 Ticket    Fare Embarked  Survived  \n",
      "0  43d75413-a939-4bd1-a516-b0d47d3572cc  144.08        Q         1  \n",
      "1  6334fa2a-8b4b-47e7-a451-5ae01754bf08  249.04        S         0  \n",
      "2  61a66444-e2af-4629-9efb-336e2f546033   50.31        Q         1  \n",
      "3  0b6c03c8-721e-4419-afc3-e6495e911b91  235.20        C         1  \n",
      "4  436e3c49-770e-49db-b092-d40143675d58  160.17        C         1  \n"
     ]
    }
   ],
   "source": [
    "# display the first few rows\n",
    "print(df.head())"
   ]
  },
  {
   "cell_type": "code",
   "execution_count": 7,
   "id": "67fd3a7c-2bf8-403a-bc1b-340c545b256c",
   "metadata": {},
   "outputs": [
    {
     "name": "stdout",
     "output_type": "stream",
     "text": [
      "PassengerId      int64\n",
      "Pclass           int64\n",
      "Name            object\n",
      "Sex             object\n",
      "Age              int64\n",
      "SibSp            int64\n",
      "Parch            int64\n",
      "Ticket          object\n",
      "Fare           float64\n",
      "Embarked        object\n",
      "Survived         int64\n",
      "dtype: object\n"
     ]
    }
   ],
   "source": [
    "# check data type\n",
    "print(df.dtypes)"
   ]
  },
  {
   "cell_type": "code",
   "execution_count": 9,
   "id": "4072e99d-b47b-4f1c-a927-7bac58faa109",
   "metadata": {},
   "outputs": [
    {
     "name": "stdout",
     "output_type": "stream",
     "text": [
      "PassengerId    0\n",
      "Pclass         0\n",
      "Name           0\n",
      "Sex            0\n",
      "Age            0\n",
      "SibSp          0\n",
      "Parch          0\n",
      "Ticket         0\n",
      "Fare           0\n",
      "Embarked       0\n",
      "Survived       0\n",
      "dtype: int64\n"
     ]
    }
   ],
   "source": [
    "# check missing values \n",
    "print(df.isnull().sum())"
   ]
  },
  {
   "cell_type": "code",
   "execution_count": 11,
   "id": "42924dd9-8890-4022-a7d1-36aaab0296e7",
   "metadata": {},
   "outputs": [
    {
     "name": "stdout",
     "output_type": "stream",
     "text": [
      "       PassengerId       Pclass          Age        SibSp        Parch  \\\n",
      "count  1000.000000  1000.000000  1000.000000  1000.000000  1000.000000   \n",
      "mean    500.500000     1.964000    38.458000     2.032000     2.005000   \n",
      "std     288.819436     0.820596    23.103723     1.424431     1.410306   \n",
      "min       1.000000     1.000000     1.000000     0.000000     0.000000   \n",
      "25%     250.750000     1.000000    19.000000     1.000000     1.000000   \n",
      "50%     500.500000     2.000000    36.500000     2.000000     2.000000   \n",
      "75%     750.250000     3.000000    59.000000     3.000000     3.000000   \n",
      "max    1000.000000     3.000000    79.000000     4.000000     4.000000   \n",
      "\n",
      "              Fare     Survived  \n",
      "count  1000.000000  1000.000000  \n",
      "mean    247.968650     0.492000  \n",
      "std     139.301211     0.500186  \n",
      "min      10.020000     0.000000  \n",
      "25%     126.295000     0.000000  \n",
      "50%     246.500000     0.000000  \n",
      "75%     365.662500     1.000000  \n",
      "max     499.780000     1.000000  \n"
     ]
    }
   ],
   "source": [
    "#summary statistics\n",
    "print(df.describe())"
   ]
  },
  {
   "cell_type": "code",
   "execution_count": null,
   "id": "32822498-817d-4967-932f-56d4bd7d9ae0",
   "metadata": {},
   "outputs": [],
   "source": [
    "# Data Cleaning\n",
    "1. To handle missing data by filling \n",
    "2. detect and remove outliers\n",
    "3. encode categorials varaibles\n",
    "4. Normalize or scale numerical data "
   ]
  },
  {
   "cell_type": "code",
   "execution_count": 19,
   "id": "24de760b-d714-468c-ab5f-924a87dd640f",
   "metadata": {},
   "outputs": [],
   "source": [
    "#To handle missing data by filling \n",
    "df[\"Age\"].fillna(df[\"Age\"].median(), inplace=True)\n",
    "df.dropna(subset=[\"Embarked\"], inplace=True)"
   ]
  },
  {
   "cell_type": "code",
   "execution_count": 23,
   "id": "41d0b2f3-ac26-4045-9427-1de6412410c6",
   "metadata": {},
   "outputs": [],
   "source": [
    "#  detect and remove outliers\n",
    "Q1 = df[\"Fare\"].quantile(0.25)\n",
    "Q3 = df[\"Fare\"].quantile(0.75)\n",
    "X = Q3 - Q1\n",
    "df =  df[~((df[\"Fare\"] < (Q1 - 1.5 * X)) | (df[\"Fare\"] >  (Q3 + 1.5 * X)))]\n",
    "# df =  df[~((df[\"Fare\"] < df[\"Fare\"].mean()) / df[\"Fare\"].std()]"
   ]
  },
  {
   "cell_type": "code",
   "execution_count": 25,
   "id": "1911327d-04d2-4b2f-84ee-d494992cb06c",
   "metadata": {},
   "outputs": [],
   "source": [
    "#  encode categorials varaibles \n",
    "df = pd.get_dummies(df, columns=[\"Sex\", \"Embarked\"], drop_first=True)"
   ]
  },
  {
   "cell_type": "code",
   "execution_count": 27,
   "id": "f174bd5e-4382-4202-83ce-b3983cea5e70",
   "metadata": {},
   "outputs": [],
   "source": [
    "#Normalize or scale numerical data\n",
    "df[\"Fare\"] = (df[\"Fare\"] < df[\"Fare\"].mean()) / df[\"Fare\"].std()"
   ]
  },
  {
   "cell_type": "code",
   "execution_count": 29,
   "id": "169adeb2-3eac-4f01-aeab-e906d6c3f1c1",
   "metadata": {},
   "outputs": [
    {
     "name": "stdout",
     "output_type": "stream",
     "text": [
      "   PassengerId  Pclass             Name  Age  SibSp  Parch  \\\n",
      "0            1       3     Allison Hill   17      4      2   \n",
      "1            2       1      Noah Rhodes   60      2      2   \n",
      "2            3       3  Angie Henderson   64      0      0   \n",
      "3            4       3    Daniel Wagner   35      4      0   \n",
      "4            5       1  Cristian Santos   70      0      3   \n",
      "\n",
      "                                 Ticket      Fare  Survived  Sex_male  \\\n",
      "0  43d75413-a939-4bd1-a516-b0d47d3572cc  0.007179         1      True   \n",
      "1  6334fa2a-8b4b-47e7-a451-5ae01754bf08  0.000000         0      True   \n",
      "2  61a66444-e2af-4629-9efb-336e2f546033  0.007179         1      True   \n",
      "3  0b6c03c8-721e-4419-afc3-e6495e911b91  0.007179         1      True   \n",
      "4  436e3c49-770e-49db-b092-d40143675d58  0.007179         1     False   \n",
      "\n",
      "   Embarked_Q  Embarked_S  \n",
      "0        True       False  \n",
      "1       False        True  \n",
      "2        True       False  \n",
      "3       False       False  \n",
      "4       False       False  \n"
     ]
    }
   ],
   "source": [
    "print(df.head())"
   ]
  },
  {
   "cell_type": "code",
   "execution_count": null,
   "id": "de4b0279-93b2-4fba-9dae-a8d2f43dcacd",
   "metadata": {},
   "outputs": [],
   "source": []
  }
 ],
 "metadata": {
  "kernelspec": {
   "display_name": "Python 3 (ipykernel)",
   "language": "python",
   "name": "python3"
  },
  "language_info": {
   "codemirror_mode": {
    "name": "ipython",
    "version": 3
   },
   "file_extension": ".py",
   "mimetype": "text/x-python",
   "name": "python",
   "nbconvert_exporter": "python",
   "pygments_lexer": "ipython3",
   "version": "3.10.14"
  }
 },
 "nbformat": 4,
 "nbformat_minor": 5
}
